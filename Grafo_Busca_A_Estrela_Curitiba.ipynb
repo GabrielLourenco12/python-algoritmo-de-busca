{
  "nbformat": 4,
  "nbformat_minor": 0,
  "metadata": {
    "colab": {
      "name": "Grafo Busca A Estrela Curitiba.ipynb",
      "provenance": [],
      "collapsed_sections": [],
      "include_colab_link": true
    },
    "kernelspec": {
      "name": "python3",
      "display_name": "Python 3"
    }
  },
  "cells": [
    {
      "cell_type": "markdown",
      "metadata": {
        "id": "view-in-github",
        "colab_type": "text"
      },
      "source": [
        "<a href=\"https://colab.research.google.com/github/GabrielLourenco12/python_algoritmo_de_busca_arad_bucarest/blob/main/Grafo_Busca_A_Estrela_Curitiba.ipynb\" target=\"_parent\"><img src=\"https://colab.research.google.com/assets/colab-badge.svg\" alt=\"Open In Colab\"/></a>"
      ]
    },
    {
      "cell_type": "markdown",
      "metadata": {
        "id": "r2ZZwVzmSD9w"
      },
      "source": [
        "# Grafo - Busca A Estrela (A*)"
      ]
    },
    {
      "cell_type": "markdown",
      "metadata": {
        "id": "Kcs0qm4e6vg_"
      },
      "source": [
        "O objetivo desta tarefa é utilizar o mesmo código fonte para construir o seguinte exemplo: a cidade de origem é Porto União e a cidade de destino é Curitiba. "
      ]
    },
    {
      "cell_type": "markdown",
      "metadata": {
        "id": "PgOWgXWsNWEr"
      },
      "source": [
        "## Grafo"
      ]
    },
    {
      "cell_type": "code",
      "metadata": {
        "id": "37JdH3P_R-pL"
      },
      "source": [
        "class Vertice:\n",
        "\n",
        "  def __init__(self, rotulo, distancia_objetivo):\n",
        "    self.rotulo = rotulo\n",
        "    self.visitado = False\n",
        "    self.distancia_objetivo = distancia_objetivo\n",
        "    self.adjacentes = []\n",
        "\n",
        "  def adiciona_adjacente(self, adjacente):\n",
        "    self.adjacentes.append(adjacente)\n",
        "\n",
        "  def mostra_adjacentes(self):\n",
        "    for i in self.adjacentes:\n",
        "      print(i.vertice.rotulo, i.custo)"
      ],
      "execution_count": null,
      "outputs": []
    },
    {
      "cell_type": "code",
      "metadata": {
        "id": "Hj4-etBV6eYP"
      },
      "source": [
        "class Adjacente:\n",
        "  def __init__(self, vertice, custo):\n",
        "    self.vertice = vertice\n",
        "    self.custo = custo\n",
        "\n",
        "    # Novo atributo\n",
        "    self.distancia_aestrela = vertice.distancia_objetivo + self.custo"
      ],
      "execution_count": null,
      "outputs": []
    },
    {
      "cell_type": "code",
      "metadata": {
        "id": "42axhC-b6r-L"
      },
      "source": [
        "class Grafo:\n",
        "  porto_uniao = Vertice('Porto União', 203)\n",
        "  paulo_frontin = Vertice('Paulo Frontin', 172)\n",
        "  irati = Vertice('Irati', 139)\n",
        "  canoinhas = Vertice('Canoinhas', 141)\n",
        "  tres_barras = Vertice('Três Barras', 131)\n",
        "  sao_mateus_do_sul = Vertice('São Mateus do Sul', 123)\n",
        "  curitiba = Vertice('Curitiba', 0)\n",
        "  palmeira = Vertice('Palmeira', 59)\n",
        "  mafra = Vertice('Mafra', 94)\n",
        "  campo_largo = Vertice('Campo Largo', 27)\n",
        "  balsa_nova = Vertice('Balsa Nova', 41)\n",
        "  lapa = Vertice('Lapa', 74)\n",
        "  tijucas_do_sul = Vertice('Tijucas do Sul', 56)\n",
        "  araucaria = Vertice('Araucária', 23)\n",
        "  contenda = Vertice('Contenda', 39)\n",
        "  sao_jose_dos_pinhais = Vertice('São José dos Pinhais', 13)\n",
        "\n",
        "  porto_uniao.adiciona_adjacente(Adjacente(paulo_frontin, 46))\n",
        "  porto_uniao.adiciona_adjacente(Adjacente(sao_mateus_do_sul, 87))\n",
        "  porto_uniao.adiciona_adjacente(Adjacente(canoinhas, 78))\n",
        "\n",
        "  paulo_frontin.adiciona_adjacente(Adjacente(porto_uniao, 46))\n",
        "  paulo_frontin.adiciona_adjacente(Adjacente(irati, 75))\n",
        "\n",
        "  sao_mateus_do_sul.adiciona_adjacente(Adjacente(porto_uniao, 87))\n",
        "  sao_mateus_do_sul.adiciona_adjacente(Adjacente(tres_barras, 43))\n",
        "  sao_mateus_do_sul.adiciona_adjacente(Adjacente(irati, 57))\n",
        "  sao_mateus_do_sul.adiciona_adjacente(Adjacente(palmeira, 77))\n",
        "  sao_mateus_do_sul.adiciona_adjacente(Adjacente(lapa, 60))\n",
        "\n",
        "  canoinhas.adiciona_adjacente(Adjacente(porto_uniao, 78))\n",
        "  canoinhas.adiciona_adjacente(Adjacente(tres_barras, 12))\n",
        "  canoinhas.adiciona_adjacente(Adjacente(mafra, 66))\n",
        "  \n",
        "  irati.adiciona_adjacente(Adjacente(paulo_frontin, 75))\n",
        "  irati.adiciona_adjacente(Adjacente(sao_mateus_do_sul, 57))\n",
        "  irati.adiciona_adjacente(Adjacente(palmeira, 75))\n",
        "\n",
        "  tres_barras.adiciona_adjacente(Adjacente(sao_mateus_do_sul, 43))\n",
        "  tres_barras.adiciona_adjacente(Adjacente(canoinhas, 12))\n",
        "\n",
        "  palmeira.adiciona_adjacente(Adjacente(sao_mateus_do_sul, 77))\n",
        "  palmeira.adiciona_adjacente(Adjacente(irati, 75))\n",
        "  palmeira.adiciona_adjacente(Adjacente(campo_largo, 55))\n",
        "\n",
        "  lapa.adiciona_adjacente(Adjacente(sao_mateus_do_sul, 60))\n",
        "  lapa.adiciona_adjacente(Adjacente(contenda, 26))\n",
        "  lapa.adiciona_adjacente(Adjacente(mafra, 57))\n",
        "\n",
        "  mafra.adiciona_adjacente(Adjacente(canoinhas, 66))\n",
        "  mafra.adiciona_adjacente(Adjacente(lapa, 57))\n",
        "  mafra.adiciona_adjacente(Adjacente(tijucas_do_sul, 99))\n",
        "\n",
        "  contenda.adiciona_adjacente(Adjacente(lapa, 26))\n",
        "  contenda.adiciona_adjacente(Adjacente(balsa_nova, 19))\n",
        "  contenda.adiciona_adjacente(Adjacente(araucaria, 18))\n",
        "\n",
        "  campo_largo.adiciona_adjacente(Adjacente(palmeira, 55))\n",
        "  campo_largo.adiciona_adjacente(Adjacente(balsa_nova, 22))\n",
        "  campo_largo.adiciona_adjacente(Adjacente(curitiba, 29))\n",
        "\n",
        "  balsa_nova.adiciona_adjacente(Adjacente(curitiba, 51))\n",
        "  balsa_nova.adiciona_adjacente(Adjacente(contenda, 19))\n",
        "  balsa_nova.adiciona_adjacente(Adjacente(campo_largo, 22))\n",
        "\n",
        "  araucaria.adiciona_adjacente(Adjacente(curitiba, 37))\n",
        "  araucaria.adiciona_adjacente(Adjacente(contenda, 18))\n",
        "  \n",
        "  tijucas_do_sul.adiciona_adjacente(Adjacente(sao_jose_dos_pinhais, 49))\n",
        "  tijucas_do_sul.adiciona_adjacente(Adjacente(mafra, 99))\n",
        "\n",
        "  sao_jose_dos_pinhais.adiciona_adjacente(Adjacente(curitiba, 15))\n",
        "  sao_jose_dos_pinhais.adiciona_adjacente(Adjacente(tijucas_do_sul, 49))\n",
        "\n",
        "  curitiba.adiciona_adjacente(Adjacente(campo_largo, 29))\n",
        "  curitiba.adiciona_adjacente(Adjacente(balsa_nova, 51))\n",
        "  curitiba.adiciona_adjacente(Adjacente(araucaria, 37))\n",
        "  curitiba.adiciona_adjacente(Adjacente(sao_jose_dos_pinhais, 15))\n"
      ],
      "execution_count": null,
      "outputs": []
    },
    {
      "cell_type": "code",
      "metadata": {
        "id": "qBYjaInI-N4c"
      },
      "source": [
        "grafo = Grafo()"
      ],
      "execution_count": null,
      "outputs": []
    },
    {
      "cell_type": "markdown",
      "metadata": {
        "id": "aIjre2EzLXB0"
      },
      "source": [
        "## Vetor ordenado (adjacente)"
      ]
    },
    {
      "cell_type": "code",
      "metadata": {
        "id": "bHnGlmCQLYoH"
      },
      "source": [
        "import numpy as np\n",
        "class VetorOrdenado:\n",
        "  \n",
        "  def __init__(self, capacidade):\n",
        "    self.capacidade = capacidade\n",
        "    self.ultima_posicao = -1\n",
        "    # Mudança no tipo de dados\n",
        "    self.valores = np.empty(self.capacidade, dtype=object)\n",
        "\n",
        "  # Referência para o vértice e comparação com a distância para o objetivo\n",
        "  def insere(self, adjacente):\n",
        "    if self.ultima_posicao == self.capacidade - 1:\n",
        "      print('Capacidade máxima atingida')\n",
        "      return\n",
        "    posicao = 0\n",
        "    for i in range(self.ultima_posicao + 1):\n",
        "      posicao = i\n",
        "      if self.valores[i].distancia_aestrela > adjacente.distancia_aestrela:\n",
        "        break\n",
        "      if i == self.ultima_posicao:\n",
        "        posicao = i + 1\n",
        "    x = self.ultima_posicao\n",
        "    while x >= posicao:\n",
        "      self.valores[x + 1] = self.valores[x]\n",
        "      x -= 1\n",
        "    self.valores[posicao] = adjacente\n",
        "    self.ultima_posicao += 1\n",
        "\n",
        "  def imprime(self):\n",
        "    if self.ultima_posicao == -1:\n",
        "      print('O vetor está vazio')\n",
        "    else:\n",
        "      for i in range(self.ultima_posicao + 1):\n",
        "        print(i, ' - ', self.valores[i].vertice.rotulo, ' - ', \n",
        "              self.valores[i].custo, ' - ', \n",
        "              self.valores[i].vertice.distancia_objetivo, ' - ',\n",
        "              self.valores[i].distancia_aestrela)  "
      ],
      "execution_count": null,
      "outputs": []
    },
    {
      "cell_type": "code",
      "metadata": {
        "id": "bU6PRlO8L8cl",
        "outputId": "9597713d-3d77-4456-a26a-450a7999d18e",
        "colab": {
          "base_uri": "https://localhost:8080/",
          "height": 84
        }
      },
      "source": [
        "grafo.curitiba.adjacentes"
      ],
      "execution_count": null,
      "outputs": [
        {
          "output_type": "execute_result",
          "data": {
            "text/plain": [
              "[<__main__.Adjacente at 0x7feea7d3d2e8>,\n",
              " <__main__.Adjacente at 0x7feea7d3d320>,\n",
              " <__main__.Adjacente at 0x7feea7d3d358>,\n",
              " <__main__.Adjacente at 0x7feea7d3d390>]"
            ]
          },
          "metadata": {
            "tags": []
          },
          "execution_count": 7
        }
      ]
    },
    {
      "cell_type": "code",
      "metadata": {
        "id": "7K05OPLaMHar",
        "outputId": "6a60f08c-9050-4e92-9f14-8ff05ef0dc6a",
        "colab": {
          "base_uri": "https://localhost:8080/",
          "height": 34
        }
      },
      "source": [
        "grafo.porto_uniao.adjacentes[0].vertice.rotulo, grafo.porto_uniao.adjacentes[0].vertice.distancia_objetivo"
      ],
      "execution_count": null,
      "outputs": [
        {
          "output_type": "execute_result",
          "data": {
            "text/plain": [
              "('Paulo Frontin', 172)"
            ]
          },
          "metadata": {
            "tags": []
          },
          "execution_count": 10
        }
      ]
    },
    {
      "cell_type": "code",
      "metadata": {
        "id": "EaU6gA1qMUKJ",
        "outputId": "6930ac00-ca9e-4901-ecfd-15c7c3e02d67",
        "colab": {
          "base_uri": "https://localhost:8080/",
          "height": 34
        }
      },
      "source": [
        "grafo.porto_uniao.adjacentes[0].distancia_aestrela, grafo.porto_uniao.adjacentes[0].custo"
      ],
      "execution_count": null,
      "outputs": [
        {
          "output_type": "execute_result",
          "data": {
            "text/plain": [
              "(218, 46)"
            ]
          },
          "metadata": {
            "tags": []
          },
          "execution_count": 12
        }
      ]
    },
    {
      "cell_type": "code",
      "metadata": {
        "id": "P9p9N7quMX0y"
      },
      "source": [
        "vetor = VetorOrdenado(20)\n",
        "vetor.insere(grafo.porto_uniao.adjacentes[0])\n",
        "vetor.insere(grafo.porto_uniao.adjacentes[1])\n",
        "vetor.insere(grafo.porto_uniao.adjacentes[2])"
      ],
      "execution_count": null,
      "outputs": []
    },
    {
      "cell_type": "code",
      "metadata": {
        "id": "vKhUrylgMzJV",
        "outputId": "108e154e-8c5d-4c8f-bab7-6c5ff7187168",
        "colab": {
          "base_uri": "https://localhost:8080/",
          "height": 67
        }
      },
      "source": [
        "vetor.imprime()"
      ],
      "execution_count": null,
      "outputs": [
        {
          "output_type": "stream",
          "text": [
            "0  -  São Mateus do Sul  -  87  -  123  -  210\n",
            "1  -  Paulo Frontin  -  46  -  172  -  218\n",
            "2  -  Canoinhas  -  78  -  141  -  219\n"
          ],
          "name": "stdout"
        }
      ]
    },
    {
      "cell_type": "markdown",
      "metadata": {
        "id": "Lmvbw_KeNYvX"
      },
      "source": [
        "## Busca AEstrela"
      ]
    },
    {
      "cell_type": "code",
      "metadata": {
        "id": "vGziamQKNbRN"
      },
      "source": [
        "class AEstrela:\n",
        "  def __init__(self, objetivo):\n",
        "    self.objetivo = objetivo\n",
        "    self.encontrado = False\n",
        "\n",
        "  def buscar(self, atual):\n",
        "    print('------------------')\n",
        "    print('Atual: {}'.format(atual.rotulo))\n",
        "    atual.visitado = True\n",
        "\n",
        "    if atual == self.objetivo:\n",
        "      self.encontrado = True\n",
        "    else:\n",
        "      vetor_ordenado = VetorOrdenado(len(atual.adjacentes))\n",
        "      for adjacente in atual.adjacentes:\n",
        "        if adjacente.vertice.visitado == False:\n",
        "          adjacente.vertice.visitado = True\n",
        "          vetor_ordenado.insere(adjacente)\n",
        "      vetor_ordenado.imprime()\n",
        "\n",
        "      if vetor_ordenado.valores[0] != None:\n",
        "        self.buscar(vetor_ordenado.valores[0].vertice)"
      ],
      "execution_count": null,
      "outputs": []
    },
    {
      "cell_type": "code",
      "metadata": {
        "id": "PLEzojkn_WWY",
        "outputId": "f7983684-7abf-408e-99dd-4c0c0064ab68",
        "colab": {
          "base_uri": "https://localhost:8080/",
          "height": 420
        }
      },
      "source": [
        "busca_aestrela = AEstrela(grafo.curitiba)\n",
        "busca_aestrela.buscar(grafo.porto_uniao)"
      ],
      "execution_count": null,
      "outputs": [
        {
          "output_type": "stream",
          "text": [
            "------------------\n",
            "Atual: Porto União\n",
            "0  -  São Mateus do Sul  -  87  -  123  -  210\n",
            "1  -  Paulo Frontin  -  46  -  172  -  218\n",
            "2  -  Canoinhas  -  78  -  141  -  219\n",
            "------------------\n",
            "Atual: São Mateus do Sul\n",
            "0  -  Lapa  -  60  -  74  -  134\n",
            "1  -  Palmeira  -  77  -  59  -  136\n",
            "2  -  Três Barras  -  43  -  131  -  174\n",
            "3  -  Irati  -  57  -  139  -  196\n",
            "------------------\n",
            "Atual: Lapa\n",
            "0  -  Contenda  -  26  -  39  -  65\n",
            "1  -  Mafra  -  57  -  94  -  151\n",
            "------------------\n",
            "Atual: Contenda\n",
            "0  -  Araucária  -  18  -  23  -  41\n",
            "1  -  Balsa Nova  -  19  -  41  -  60\n",
            "------------------\n",
            "Atual: Araucária\n",
            "0  -  Curitiba  -  37  -  0  -  37\n",
            "------------------\n",
            "Atual: Curitiba\n"
          ],
          "name": "stdout"
        }
      ]
    }
  ]
}